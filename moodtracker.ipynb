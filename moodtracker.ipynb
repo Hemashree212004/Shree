{
  "nbformat": 4,
  "nbformat_minor": 0,
  "metadata": {
    "colab": {
      "provenance": [],
      "authorship_tag": "ABX9TyMaib+6lvUogk/k8+eeSCsT",
      "include_colab_link": true
    },
    "kernelspec": {
      "name": "python3",
      "display_name": "Python 3"
    },
    "language_info": {
      "name": "python"
    }
  },
  "cells": [
    {
      "cell_type": "markdown",
      "metadata": {
        "id": "view-in-github",
        "colab_type": "text"
      },
      "source": [
        "<a href=\"https://colab.research.google.com/github/Hemashree212004/Shree/blob/master/moodtracker.ipynb\" target=\"_parent\"><img src=\"https://colab.research.google.com/assets/colab-badge.svg\" alt=\"Open In Colab\"/></a>"
      ]
    },
    {
      "cell_type": "code",
      "execution_count": null,
      "metadata": {
        "colab": {
          "base_uri": "https://localhost:8080/",
          "height": 106
        },
        "id": "GX5ONSPeRc_g",
        "outputId": "a4d596fb-97dd-469a-f66a-94d9607155e9"
      },
      "outputs": [
        {
          "output_type": "error",
          "ename": "IndentationError",
          "evalue": "unexpected indent (<ipython-input-4-e089f804b946>, line 13)",
          "traceback": [
            "\u001b[0;36m  File \u001b[0;32m\"<ipython-input-4-e089f804b946>\"\u001b[0;36m, line \u001b[0;32m13\u001b[0m\n\u001b[0;31m    if user_input in chatbot_dict:\u001b[0m\n\u001b[0m    ^\u001b[0m\n\u001b[0;31mIndentationError\u001b[0m\u001b[0;31m:\u001b[0m unexpected indent\n"
          ]
        }
      ],
      "source": [
        " responses_dict = {\n",
        "      'hello': 'hi there',\n",
        "      'how are you': 'I am doing well, thank you!',\n",
        "      'what is your name': 'I am a simple chatbot.',\n",
        "      'bye': 'Goodbye!',\n",
        "      'thank you': 'You\\'re welcome!',\n",
        "      'default': 'I am still learning to understand. Could you please rephrase?'\n",
        "  }"
      ]
    }
  ]
}